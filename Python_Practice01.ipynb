{
  "nbformat": 4,
  "nbformat_minor": 0,
  "metadata": {
    "colab": {
      "provenance": [],
      "authorship_tag": "ABX9TyN1422rlRuR0rarXnctD3RF"
    },
    "kernelspec": {
      "name": "python3",
      "display_name": "Python 3"
    },
    "language_info": {
      "name": "python"
    }
  },
  "cells": [
    {
      "cell_type": "code",
      "execution_count": null,
      "metadata": {
        "id": "jqj8u3j6kiDS"
      },
      "outputs": [],
      "source": []
    },
    {
      "cell_type": "markdown",
      "source": [
        "<font color = \"Red\"/> <h1/> Variable\n"
      ],
      "metadata": {
        "id": "773-lWVsk28w"
      }
    },
    {
      "cell_type": "code",
      "source": [
        "# Code goes here\n",
        "a = 1\n",
        "b = 1.0\n",
        "c = 'text'"
      ],
      "metadata": {
        "id": "232abCX7k2Bx"
      },
      "execution_count": 1,
      "outputs": []
    },
    {
      "cell_type": "markdown",
      "source": [
        "<font color = \"Red\"/> <h1/> Local Variable\n"
      ],
      "metadata": {
        "id": "8TQniUQGmEdB"
      }
    },
    {
      "cell_type": "code",
      "source": [
        "function 1 {\n",
        "    a = 1\n",
        "}\n",
        "\n",
        "function 2 {\n",
        "    b = 2\n",
        "}"
      ],
      "metadata": {
        "id": "FPoaJII5l5bp"
      },
      "execution_count": null,
      "outputs": []
    },
    {
      "cell_type": "markdown",
      "source": [
        "<font color = \"Red\"/> <h1/> Global Variable"
      ],
      "metadata": {
        "id": "Km44YbEjmWTQ"
      }
    },
    {
      "cell_type": "code",
      "source": [
        "C = 2\n",
        "\n",
        "function 1{\n",
        "    c + 2\n",
        "}\n",
        "function 2 {\n",
        "    c +3\n",
        "}"
      ],
      "metadata": {
        "id": "gxQGaPUqmDIY"
      },
      "execution_count": null,
      "outputs": []
    },
    {
      "cell_type": "markdown",
      "source": [
        "<font color = \"Red\"/> <h1/> Data Type"
      ],
      "metadata": {
        "id": "0shZoky3mpaR"
      }
    },
    {
      "cell_type": "markdown",
      "source": [
        "Numbers"
      ],
      "metadata": {
        "id": "uT3820cbmwXR"
      }
    },
    {
      "cell_type": "code",
      "source": [
        "a = 21\n",
        "b = 2.34"
      ],
      "metadata": {
        "id": "GS7yNPf-l60g"
      },
      "execution_count": null,
      "outputs": []
    },
    {
      "cell_type": "markdown",
      "source": [
        "Strings"
      ],
      "metadata": {
        "id": "KEeNV9bgm4nZ"
      }
    },
    {
      "cell_type": "code",
      "source": [
        "name = 'karie'\n"
      ],
      "metadata": {
        "id": "m7T7fA8Jl6mQ"
      },
      "execution_count": null,
      "outputs": []
    },
    {
      "cell_type": "markdown",
      "source": [
        "Booleans\n"
      ],
      "metadata": {
        "id": "rA6k0wX0nE44"
      }
    },
    {
      "cell_type": "code",
      "source": [
        "light_on = False"
      ],
      "metadata": {
        "id": "vrucEAafnIYy"
      },
      "execution_count": null,
      "outputs": []
    },
    {
      "cell_type": "markdown",
      "source": [
        "<font color = \"Red\"/> <h1/> Data Structure\n"
      ],
      "metadata": {
        "id": "XIuo2xzpnTuw"
      }
    },
    {
      "cell_type": "markdown",
      "source": [
        "List"
      ],
      "metadata": {
        "id": "t1u9vnFCnbx4"
      }
    },
    {
      "cell_type": "code",
      "source": [
        "list_of_numbers = [1,2,3,4,5]\n",
        "print(list_of_numbers)"
      ],
      "metadata": {
        "colab": {
          "base_uri": "https://localhost:8080/"
        },
        "id": "Pu1NFktLnZqI",
        "outputId": "6ab9cacd-ab5b-4735-ac78-4cf024ab0846"
      },
      "execution_count": 2,
      "outputs": [
        {
          "output_type": "stream",
          "name": "stdout",
          "text": [
            "[1, 2, 3, 4, 5]\n"
          ]
        }
      ]
    },
    {
      "cell_type": "code",
      "source": [
        "list_of_numbers.remove(1)\n",
        "print(list_of_numbers)"
      ],
      "metadata": {
        "colab": {
          "base_uri": "https://localhost:8080/"
        },
        "id": "CGyNyrlFnoqD",
        "outputId": "37708aa4-1e93-4675-9427-7cec17fe10e9"
      },
      "execution_count": 3,
      "outputs": [
        {
          "output_type": "stream",
          "name": "stdout",
          "text": [
            "[2, 3, 4, 5]\n"
          ]
        }
      ]
    },
    {
      "cell_type": "markdown",
      "source": [
        "Tuples"
      ],
      "metadata": {
        "id": "8d3Ed9-Un6Kw"
      }
    },
    {
      "cell_type": "code",
      "source": [
        "tuple_of_numbers = (1,2,3,4)\n",
        "print(tuple_of_numbers)"
      ],
      "metadata": {
        "colab": {
          "base_uri": "https://localhost:8080/"
        },
        "id": "qkQpY8z8n2XV",
        "outputId": "84bc850f-4312-4af7-8ddf-23ab670ab223"
      },
      "execution_count": 4,
      "outputs": [
        {
          "output_type": "stream",
          "name": "stdout",
          "text": [
            "(1, 2, 3, 4)\n"
          ]
        }
      ]
    },
    {
      "cell_type": "markdown",
      "source": [
        "Set"
      ],
      "metadata": {
        "id": "EIxzMEi1oJ75"
      }
    },
    {
      "cell_type": "code",
      "source": [
        "fruits = {'apple', 'orange', 'banana'}\n",
        "print(fruits)"
      ],
      "metadata": {
        "colab": {
          "base_uri": "https://localhost:8080/"
        },
        "id": "qFEwscN0n2TI",
        "outputId": "35d19fe4-942c-4dca-b504-859d932f27d8"
      },
      "execution_count": 1,
      "outputs": [
        {
          "output_type": "stream",
          "name": "stdout",
          "text": [
            "{'orange', 'apple', 'banana'}\n"
          ]
        }
      ]
    },
    {
      "cell_type": "code",
      "source": [
        "## list = order is maintained\n",
        "## tupple = order is maintained\n",
        "## Set = order is not maintained"
      ],
      "metadata": {
        "id": "cyfhNKDEn2OP"
      },
      "execution_count": null,
      "outputs": []
    },
    {
      "cell_type": "markdown",
      "source": [
        "Dictionary"
      ],
      "metadata": {
        "id": "2_qm9Y3dTdqB"
      }
    },
    {
      "cell_type": "code",
      "source": [
        "person = {\n",
        "      \"name\" : \"karim\",\n",
        "      \"height\" : 5.7,\n",
        "      \"address\" : \"Dhaka\"\n",
        "}\n",
        "\n",
        "print(person['address'])"
      ],
      "metadata": {
        "colab": {
          "base_uri": "https://localhost:8080/"
        },
        "id": "Shcogy98n2Hg",
        "outputId": "e9b21f56-b5b7-41a5-efd0-0204c9a8daaa"
      },
      "execution_count": 3,
      "outputs": [
        {
          "output_type": "stream",
          "name": "stdout",
          "text": [
            "Dhaka\n"
          ]
        }
      ]
    },
    {
      "cell_type": "markdown",
      "source": [
        "<font color = \"Red\"/> <h1/> Conditionals"
      ],
      "metadata": {
        "id": "el2EYqeoUfsZ"
      }
    },
    {
      "cell_type": "markdown",
      "source": [
        "if else"
      ],
      "metadata": {
        "id": "3a2xo9s-Umbg"
      }
    },
    {
      "cell_type": "code",
      "source": [
        "condition = True\n",
        "\n",
        "if condition == True:\n",
        "  print('success')\n",
        "else:\n",
        "  print('fail')"
      ],
      "metadata": {
        "colab": {
          "base_uri": "https://localhost:8080/"
        },
        "id": "5dKvbnXBTlLX",
        "outputId": "f9cd8bf7-1551-4161-9bf4-e1dbbf1b044d"
      },
      "execution_count": 4,
      "outputs": [
        {
          "output_type": "stream",
          "name": "stdout",
          "text": [
            "success\n"
          ]
        }
      ]
    },
    {
      "cell_type": "markdown",
      "source": [
        "<font color = \"Red\"/> <h1/> Loops"
      ],
      "metadata": {
        "id": "qZrD_YBUU9bJ"
      }
    },
    {
      "cell_type": "markdown",
      "source": [
        "while loop"
      ],
      "metadata": {
        "id": "q_yl2zddXQ_o"
      }
    },
    {
      "cell_type": "code",
      "source": [
        "counter = 0\n",
        "while counter <= 10:\n",
        "  print(counter)\n",
        "  counter = counter + 1"
      ],
      "metadata": {
        "colab": {
          "base_uri": "https://localhost:8080/"
        },
        "id": "ZrYdKtyvU65_",
        "outputId": "b9a909f1-49bc-4f0a-8d8f-74ee99d39c10"
      },
      "execution_count": 5,
      "outputs": [
        {
          "output_type": "stream",
          "name": "stdout",
          "text": [
            "0\n",
            "1\n",
            "2\n",
            "3\n",
            "4\n",
            "5\n",
            "6\n",
            "7\n",
            "8\n",
            "9\n",
            "10\n"
          ]
        }
      ]
    },
    {
      "cell_type": "markdown",
      "source": [
        "For loop"
      ],
      "metadata": {
        "id": "R6CMGx_9Xrcr"
      }
    },
    {
      "cell_type": "code",
      "source": [
        "colors = ['orange','yellow','pink','green']\n",
        "\n",
        "for x in colors:\n",
        "  print(x)"
      ],
      "metadata": {
        "colab": {
          "base_uri": "https://localhost:8080/"
        },
        "id": "okakmidtXoA4",
        "outputId": "c4aa29df-a8c0-4a0b-d46c-1607d7f1ca5b"
      },
      "execution_count": 6,
      "outputs": [
        {
          "output_type": "stream",
          "name": "stdout",
          "text": [
            "orange\n",
            "yellow\n",
            "pink\n",
            "green\n"
          ]
        }
      ]
    },
    {
      "cell_type": "markdown",
      "source": [
        "<font color = \"Red\"/> <h1/> Function"
      ],
      "metadata": {
        "id": "D5v0lve-VCJi"
      }
    },
    {
      "cell_type": "code",
      "source": [
        "def my_function(a,b):\n",
        "  print(\"I do some addition\")\n",
        "  print(a+b)\n",
        "  return 'success'\n",
        "\n",
        "my_function(2,3)"
      ],
      "metadata": {
        "colab": {
          "base_uri": "https://localhost:8080/",
          "height": 70
        },
        "id": "AuyVQvrVU62o",
        "outputId": "1bb69501-b15f-45dc-aae2-35121429e995"
      },
      "execution_count": 11,
      "outputs": [
        {
          "output_type": "stream",
          "name": "stdout",
          "text": [
            "I do some addition\n",
            "5\n"
          ]
        },
        {
          "output_type": "execute_result",
          "data": {
            "text/plain": [
              "'success'"
            ],
            "application/vnd.google.colaboratory.intrinsic+json": {
              "type": "string"
            }
          },
          "metadata": {},
          "execution_count": 11
        }
      ]
    },
    {
      "cell_type": "markdown",
      "source": [
        "<font color = \"Red\"/> <h1/> Class / Object"
      ],
      "metadata": {
        "id": "jIm1Jp7JfSe_"
      }
    },
    {
      "cell_type": "markdown",
      "source": [
        "Simple class"
      ],
      "metadata": {
        "id": "U2o-m-sdfq1K"
      }
    },
    {
      "cell_type": "code",
      "source": [],
      "metadata": {
        "id": "BczAWunkiQN3"
      },
      "execution_count": null,
      "outputs": []
    },
    {
      "cell_type": "code",
      "source": [
        "class Fruit():\n",
        "  #property\n",
        "  def __init__ (self, color, available):\n",
        "    self.color = color\n",
        "    self.available = available\n",
        "\n",
        "  # function\n",
        "  def eaten_or_not(self, available, choice):\n",
        "    if choice == 'eaten':\n",
        "      self.available = False\n",
        "    else:\n",
        "      pass\n",
        "\n",
        "  banana = Fruit(\"yellow\", True)\n",
        "  print('Is banana available?', banana.available)\n",
        "\n",
        "  banana.eaten_or_not('eaten')\n",
        "  print('Is still banana available?', banana.available)\n",
        "\n",
        "  # create more objects\n",
        "  orange = Fruit('orange', False)\n",
        "\n",
        "  apple = Fruit('red', True)\n"
      ],
      "metadata": {
        "colab": {
          "base_uri": "https://localhost:8080/"
        },
        "id": "g88P6LTyU6zI",
        "outputId": "1b9972b5-17fe-4fab-bf48-eed69e2a80e4"
      },
      "execution_count": 16,
      "outputs": [
        {
          "output_type": "stream",
          "name": "stdout",
          "text": [
            "Is banana available? True\n",
            "Is still banana available? False\n"
          ]
        }
      ]
    },
    {
      "cell_type": "code",
      "source": [
        "class Fruit:\n",
        "    # Constructor\n",
        "    def __init__(self, color, available):\n",
        "        self.color = color\n",
        "        self.available = available\n",
        "\n",
        "    # Function\n",
        "    def eaten_or_not(self, choice):\n",
        "        if choice == 'eaten':\n",
        "            self.available = False\n",
        "\n",
        "# Create objects\n",
        "banana = Fruit(\"yellow\", True)\n",
        "print('Is banana available?', banana.available)\n",
        "\n",
        "banana.eaten_or_not('eaten')\n",
        "print('Is banana still available?', banana.available)\n",
        "\n",
        "# Create more objects\n",
        "orange = Fruit('orange', False)\n",
        "apple = Fruit('red', True)\n",
        "\n",
        "# Test other objects\n",
        "print('Is orange available?', orange.available)\n",
        "print('Is apple available?', apple.available)\n"
      ],
      "metadata": {
        "colab": {
          "base_uri": "https://localhost:8080/"
        },
        "id": "rtBOFR3jU6jp",
        "outputId": "918d6a6f-3676-4712-f0a1-1ec5b41f3392"
      },
      "execution_count": 14,
      "outputs": [
        {
          "output_type": "stream",
          "name": "stdout",
          "text": [
            "Is banana available? True\n",
            "Is banana still available? False\n",
            "Is orange available? False\n",
            "Is apple available? True\n"
          ]
        }
      ]
    },
    {
      "cell_type": "markdown",
      "source": [
        "<font color = \"Red\"/> <h1/> Inheritance"
      ],
      "metadata": {
        "id": "NUM038rwnfRw"
      }
    },
    {
      "cell_type": "code",
      "source": [
        "class Person():\n",
        "  def __init__(self, nationality):\n",
        "    self.nationality = nationality\n",
        "\n",
        "  def doing_what():\n",
        "    print(\"I am sleeping\")\n",
        "\n",
        "person1 = Person('Bangladeshi')\n",
        "print(person1.nationality)\n",
        "\n",
        "class Cat(Person):\n",
        "     pass\n",
        "\n",
        "cat1 = Cat('American')\n",
        "print(cat1.nationality)\n",
        "\n",
        ""
      ],
      "metadata": {
        "colab": {
          "base_uri": "https://localhost:8080/"
        },
        "id": "BwtHMcjyom9Q",
        "outputId": "9513b90d-5a6f-4912-ad8a-d891f3fe40b2"
      },
      "execution_count": 19,
      "outputs": [
        {
          "output_type": "stream",
          "name": "stdout",
          "text": [
            "Bangladeshi\n",
            "American\n"
          ]
        }
      ]
    },
    {
      "cell_type": "code",
      "source": [],
      "metadata": {
        "id": "lf0SX98tolVx"
      },
      "execution_count": null,
      "outputs": []
    },
    {
      "cell_type": "markdown",
      "source": [
        "<font color = \"Red\"/> <h1/> Libraries"
      ],
      "metadata": {
        "id": "L-da0P0QonzB"
      }
    },
    {
      "cell_type": "code",
      "source": [
        "# area = 3.1416 * (r*r)\n",
        "import math\n",
        "r = 3\n",
        "area = math.pi*(r*r)\n",
        "print(area)"
      ],
      "metadata": {
        "colab": {
          "base_uri": "https://localhost:8080/"
        },
        "id": "qRwJ7xX9otYQ",
        "outputId": "79803e07-a345-4443-a1f2-c4534c124049"
      },
      "execution_count": 21,
      "outputs": [
        {
          "output_type": "stream",
          "name": "stdout",
          "text": [
            "28.274333882308138\n"
          ]
        }
      ]
    },
    {
      "cell_type": "markdown",
      "source": [],
      "metadata": {
        "id": "4fmA__nonZI3"
      }
    }
  ]
}